{
 "cells": [
  {
   "cell_type": "code",
   "execution_count": 1,
   "metadata": {},
   "outputs": [
    {
     "name": "stdout",
     "output_type": "stream",
     "text": [
      "Best out of (3 or 5): paper\n",
      "Invalid choice.\n",
      "Best out of (3 or 5): rock\n",
      "Invalid choice.\n",
      "Best out of (3 or 5): \"paper\"\n",
      "Invalid choice.\n",
      "Best out of (3 or 5): 3\n",
      ">>> rock, paper, scissors: rock\n",
      "You win, rock smashes scissors\n",
      ">>> rock, paper, scissors: rock\n",
      "It is a tie\n",
      ">>> rock, paper, scissors: rock\n",
      "It is a tie\n",
      ">>> rock, paper, scissors: rock\n",
      "You win, rock smashes scissors\n",
      ">>> You win! <<<\n",
      ">>> You scored: 2 point(s) <<<\n"
     ]
    }
   ],
   "source": [
    "import random\n",
    "\n",
    "options = ['rock', 'paper', 'scissors']\n",
    "\n",
    "while True:\n",
    "    try:\n",
    "        turns = int(input(\"Best out of (3 or 5): \"))\n",
    "        if turns == 3 or turns == 5:\n",
    "            break\n",
    "        continue\n",
    "    except ValueError:\n",
    "        print(\"Invalid choice.\")\n",
    "\n",
    "necessary_wins = int(turns/2) + 1\n",
    "\n",
    "player_wins = 0\n",
    "computer_wins = 0\n",
    "\n",
    "while True:\n",
    "\n",
    "    while True:\n",
    "        player = input(\">>> rock, paper, scissors: \")\n",
    "        if player in options:\n",
    "            break\n",
    "\n",
    "    computer = random.choice(options)\n",
    "\n",
    "    if player == computer:\n",
    "        print('It is a tie')\n",
    "    elif player == 'rock' and computer == 'paper':\n",
    "        print('Computer wins, paper covers rock')\n",
    "        computer_wins += 1\n",
    "    elif player == 'rock' and computer == 'scissors':\n",
    "        print('You win, rock smashes scissors')\n",
    "        player_wins += 1\n",
    "    elif player == 'paper' and computer == 'rock':\n",
    "        print('You win, paper covers rock')\n",
    "        player_wins += 1\n",
    "    elif player == 'paper' and computer == 'scissors':\n",
    "        print('Computer wins, scissors cut paper')\n",
    "        computer_wins += 1\n",
    "    elif player == 'scissors' and computer == 'rock':\n",
    "        print('Computer wins, rock smashes scissors')\n",
    "        computer_wins += 1\n",
    "    elif player == 'scissors' and computer == 'paper':\n",
    "        print('You win, scissors cut paper')\n",
    "        player_wins += 1\n",
    "\n",
    "    if player_wins == necessary_wins or computer_wins == necessary_wins:\n",
    "        break\n",
    "\n",
    "if player_wins > computer_wins:\n",
    "    print(f'>>> You win! <<<')\n",
    "else:\n",
    "    print(f'>>> Computer wins! <<<')\n",
    "\n",
    "print(f'>>> You scored: {player_wins} point(s) <<<')"
   ]
  },
  {
   "cell_type": "code",
   "execution_count": null,
   "metadata": {},
   "outputs": [],
   "source": []
  }
 ],
 "metadata": {
  "kernelspec": {
   "display_name": "Python 3",
   "language": "python",
   "name": "python3"
  },
  "language_info": {
   "codemirror_mode": {
    "name": "ipython",
    "version": 3
   },
   "file_extension": ".py",
   "mimetype": "text/x-python",
   "name": "python",
   "nbconvert_exporter": "python",
   "pygments_lexer": "ipython3",
   "version": "3.8.5"
  }
 },
 "nbformat": 4,
 "nbformat_minor": 4
}
