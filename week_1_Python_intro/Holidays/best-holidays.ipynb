{
 "cells": [
  {
   "cell_type": "markdown",
   "metadata": {},
   "source": [
    "# Dani best holidays"
   ]
  },
  {
   "cell_type": "markdown",
   "metadata": {},
   "source": [
    "In this notebook, we are going to introduce you to Dani, and we are going to explain to you which are his dream holidays based on his preferences."
   ]
  },
  {
   "cell_type": "markdown",
   "metadata": {},
   "source": [
    "### Who is Dani?"
   ]
  },
  {
   "cell_type": "code",
   "execution_count": 1,
   "metadata": {},
   "outputs": [],
   "source": [
    "#This function allows to introduce Dani\n",
    "def this_is_dani():\n",
    "    x = input('Enter the name: ')\n",
    "    print('This is ' + x)"
   ]
  },
  {
   "cell_type": "code",
   "execution_count": 2,
   "metadata": {},
   "outputs": [
    {
     "name": "stdout",
     "output_type": "stream",
     "text": [
      "Enter the name: dani\n",
      "This is dani\n"
     ]
    }
   ],
   "source": [
    "this_is_dani()"
   ]
  },
  {
   "attachments": {},
   "cell_type": "markdown",
   "metadata": {},
   "source": [
    "![alt text](https://media-exp1.licdn.com/dms/image/D4D35AQGIypFvJGYNwA/profile-framedphoto-shrink_200_200/0/1632924091368?e=1647964800&v=beta&t=ovbDRY5G1T7TOcEnQKy-HFzMDuL2pcsB9sqA7BWQcr0)"
   ]
  },
  {
   "cell_type": "markdown",
   "metadata": {},
   "source": [
    "### What are his dream holidays?"
   ]
  },
  {
   "cell_type": "code",
   "execution_count": 3,
   "metadata": {},
   "outputs": [],
   "source": [
    "#With this function we'll know which is his best destination\n",
    "def destination():\n",
    "    y = input('Do you prefer beach or city? ')\n",
    "    z = input('Do you prefer a near or far destination? ')\n",
    "    if y == 'beach' and z == 'near':\n",
    "        print(\"Your best holidays is Ibiza\")\n",
    "    if y == 'beach' and z == 'far':\n",
    "        print(\"Your best holidays is Maldivas\")\n",
    "    if y == 'city' and z == 'near':\n",
    "        print(\"Your best holidays is Hamburg\")\n",
    "    if y == 'city' and z == 'far':\n",
    "        print(\"Your best holidays is New York\")"
   ]
  },
  {
   "cell_type": "code",
   "execution_count": 4,
   "metadata": {},
   "outputs": [
    {
     "name": "stdout",
     "output_type": "stream",
     "text": [
      "Do you prefer beach or city? beach\n",
      "Do you prefer a near or far destination? near\n",
      "Your best holidays is Ibiza\n"
     ]
    }
   ],
   "source": [
    "destination()"
   ]
  },
  {
   "cell_type": "markdown",
   "metadata": {},
   "source": [
    "![alt text](https://mediafiles.reiseuhu.de/wp-content/uploads/2019/05/ibiza-tipps-e1557234522848-768x477.jpg)"
   ]
  },
  {
   "cell_type": "markdown",
   "metadata": {},
   "source": [
    "### What to do in this destination?"
   ]
  },
  {
   "cell_type": "markdown",
   "metadata": {},
   "source": [
    "In Ibiza, Dani will do a lot of interesting things:\n",
    "\n",
    "    · Party like never before\n",
    "    · Go to the most amazing beaches on Mediterranean Mar\n",
    "    · Enjoy the weather and the food    "
   ]
  },
  {
   "cell_type": "code",
   "execution_count": 11,
   "metadata": {},
   "outputs": [
    {
     "data": {
      "text/html": [
       "<iframe width=\"900\" height=\"500\" src=\"https://www.youtube.com/embed/YO4BoeEm9xA\" title=\"YouTube video player\" frameborder=\"0\" allow=\"accelerometer; autoplay; clipboard-write; encrypted-media; gyroscope; picture-in-picture\" allowfullscreen></iframe>"
      ],
      "text/plain": [
       "<IPython.core.display.HTML object>"
      ]
     },
     "execution_count": 11,
     "metadata": {},
     "output_type": "execute_result"
    }
   ],
   "source": [
    "from IPython.display import HTML\n",
    "HTML('<iframe width=\"900\" height=\"500\" src=\"https://www.youtube.com/embed/YO4BoeEm9xA\" title=\"YouTube video player\" frameborder=\"0\" allow=\"accelerometer; autoplay; clipboard-write; encrypted-media; gyroscope; picture-in-picture\" allowfullscreen></iframe>')"
   ]
  }
 ],
 "metadata": {
  "kernelspec": {
   "display_name": "Python 3",
   "language": "python",
   "name": "python3"
  },
  "language_info": {
   "codemirror_mode": {
    "name": "ipython",
    "version": 3
   },
   "file_extension": ".py",
   "mimetype": "text/x-python",
   "name": "python",
   "nbconvert_exporter": "python",
   "pygments_lexer": "ipython3",
   "version": "3.8.5"
  }
 },
 "nbformat": 4,
 "nbformat_minor": 4
}
